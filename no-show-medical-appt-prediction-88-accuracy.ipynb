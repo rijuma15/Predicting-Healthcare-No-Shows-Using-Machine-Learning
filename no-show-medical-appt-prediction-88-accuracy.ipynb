{
 "cells": [
  {
   "cell_type": "markdown",
   "id": "1f14862e",
   "metadata": {
    "papermill": {
     "duration": 0.006778,
     "end_time": "2024-08-27T05:56:38.163287",
     "exception": false,
     "start_time": "2024-08-27T05:56:38.156509",
     "status": "completed"
    },
    "tags": []
   },
   "source": [
    "# Prediction of No-SHOWS for medical appointments using Neural Network"
   ]
  },
  {
   "cell_type": "markdown",
   "id": "2473b234",
   "metadata": {
    "papermill": {
     "duration": 0.005812,
     "end_time": "2024-08-27T05:56:38.175506",
     "exception": false,
     "start_time": "2024-08-27T05:56:38.169694",
     "status": "completed"
    },
    "tags": []
   },
   "source": [
    "![NoShows](http://magazine.dentrix.com/wp-content/uploads/DOM_2-5-20_Header.jpg)"
   ]
  },
  {
   "cell_type": "markdown",
   "id": "ac48a945",
   "metadata": {
    "papermill": {
     "duration": 0.005779,
     "end_time": "2024-08-27T05:56:38.187377",
     "exception": false,
     "start_time": "2024-08-27T05:56:38.181598",
     "status": "completed"
    },
    "tags": []
   },
   "source": [
    "## Importing Packages"
   ]
  },
  {
   "cell_type": "code",
   "execution_count": 1,
   "id": "527f025b",
   "metadata": {
    "execution": {
     "iopub.execute_input": "2024-08-27T05:56:38.201348Z",
     "iopub.status.busy": "2024-08-27T05:56:38.200872Z",
     "iopub.status.idle": "2024-08-27T05:56:52.519264Z",
     "shell.execute_reply": "2024-08-27T05:56:52.518353Z"
    },
    "papermill": {
     "duration": 14.328507,
     "end_time": "2024-08-27T05:56:52.521839",
     "exception": false,
     "start_time": "2024-08-27T05:56:38.193332",
     "status": "completed"
    },
    "tags": []
   },
   "outputs": [],
   "source": [
    "import pandas as pd\n",
    "\n",
    "from sklearn.metrics import accuracy_score, confusion_matrix\n",
    "from sklearn.preprocessing import StandardScaler\n",
    "from sklearn.model_selection import train_test_split\n",
    "from sklearn.ensemble import RandomForestClassifier\n",
    "\n",
    "import os\n",
    "import tensorflow\n",
    "os.environ['KERAS_BACKEND'] = 'tensorflow'\n",
    "\n",
    "import keras\n",
    "from keras.models import Sequential\n",
    "from keras.layers import Dense, Dropout\n",
    "from keras import metrics"
   ]
  },
  {
   "cell_type": "markdown",
   "id": "1a03638a",
   "metadata": {
    "papermill": {
     "duration": 0.005728,
     "end_time": "2024-08-27T05:56:52.533843",
     "exception": false,
     "start_time": "2024-08-27T05:56:52.528115",
     "status": "completed"
    },
    "tags": []
   },
   "source": [
    "## Import dataset"
   ]
  },
  {
   "cell_type": "code",
   "execution_count": 2,
   "id": "690393ae",
   "metadata": {
    "execution": {
     "iopub.execute_input": "2024-08-27T05:56:52.547490Z",
     "iopub.status.busy": "2024-08-27T05:56:52.546819Z",
     "iopub.status.idle": "2024-08-27T05:56:52.906990Z",
     "shell.execute_reply": "2024-08-27T05:56:52.905953Z"
    },
    "papermill": {
     "duration": 0.369655,
     "end_time": "2024-08-27T05:56:52.909294",
     "exception": false,
     "start_time": "2024-08-27T05:56:52.539639",
     "status": "completed"
    },
    "tags": []
   },
   "outputs": [
    {
     "data": {
      "text/html": [
       "<div>\n",
       "<style scoped>\n",
       "    .dataframe tbody tr th:only-of-type {\n",
       "        vertical-align: middle;\n",
       "    }\n",
       "\n",
       "    .dataframe tbody tr th {\n",
       "        vertical-align: top;\n",
       "    }\n",
       "\n",
       "    .dataframe thead th {\n",
       "        text-align: right;\n",
       "    }\n",
       "</style>\n",
       "<table border=\"1\" class=\"dataframe\">\n",
       "  <thead>\n",
       "    <tr style=\"text-align: right;\">\n",
       "      <th></th>\n",
       "      <th>PatientId</th>\n",
       "      <th>AppointmentID</th>\n",
       "      <th>Gender</th>\n",
       "      <th>ScheduledDay</th>\n",
       "      <th>AppointmentDay</th>\n",
       "      <th>Age</th>\n",
       "      <th>Neighbourhood</th>\n",
       "      <th>Scholarship</th>\n",
       "      <th>Hipertension</th>\n",
       "      <th>Diabetes</th>\n",
       "      <th>Alcoholism</th>\n",
       "      <th>Handcap</th>\n",
       "      <th>SMS_received</th>\n",
       "      <th>Showed_up</th>\n",
       "      <th>Date.diff</th>\n",
       "    </tr>\n",
       "  </thead>\n",
       "  <tbody>\n",
       "    <tr>\n",
       "      <th>0</th>\n",
       "      <td>2.987250e+13</td>\n",
       "      <td>5642903</td>\n",
       "      <td>F</td>\n",
       "      <td>2016-04-29</td>\n",
       "      <td>2016-04-29</td>\n",
       "      <td>62</td>\n",
       "      <td>JARDIM DA PENHA</td>\n",
       "      <td>False</td>\n",
       "      <td>True</td>\n",
       "      <td>False</td>\n",
       "      <td>False</td>\n",
       "      <td>False</td>\n",
       "      <td>False</td>\n",
       "      <td>True</td>\n",
       "      <td>0</td>\n",
       "    </tr>\n",
       "    <tr>\n",
       "      <th>1</th>\n",
       "      <td>5.589978e+14</td>\n",
       "      <td>5642503</td>\n",
       "      <td>M</td>\n",
       "      <td>2016-04-29</td>\n",
       "      <td>2016-04-29</td>\n",
       "      <td>56</td>\n",
       "      <td>JARDIM DA PENHA</td>\n",
       "      <td>False</td>\n",
       "      <td>False</td>\n",
       "      <td>False</td>\n",
       "      <td>False</td>\n",
       "      <td>False</td>\n",
       "      <td>False</td>\n",
       "      <td>True</td>\n",
       "      <td>0</td>\n",
       "    </tr>\n",
       "    <tr>\n",
       "      <th>2</th>\n",
       "      <td>4.262962e+12</td>\n",
       "      <td>5642549</td>\n",
       "      <td>F</td>\n",
       "      <td>2016-04-29</td>\n",
       "      <td>2016-04-29</td>\n",
       "      <td>62</td>\n",
       "      <td>MATA DA PRAIA</td>\n",
       "      <td>False</td>\n",
       "      <td>False</td>\n",
       "      <td>False</td>\n",
       "      <td>False</td>\n",
       "      <td>False</td>\n",
       "      <td>False</td>\n",
       "      <td>True</td>\n",
       "      <td>0</td>\n",
       "    </tr>\n",
       "    <tr>\n",
       "      <th>3</th>\n",
       "      <td>8.679512e+11</td>\n",
       "      <td>5642828</td>\n",
       "      <td>F</td>\n",
       "      <td>2016-04-29</td>\n",
       "      <td>2016-04-29</td>\n",
       "      <td>8</td>\n",
       "      <td>PONTAL DE CAMBURI</td>\n",
       "      <td>False</td>\n",
       "      <td>False</td>\n",
       "      <td>False</td>\n",
       "      <td>False</td>\n",
       "      <td>False</td>\n",
       "      <td>False</td>\n",
       "      <td>True</td>\n",
       "      <td>0</td>\n",
       "    </tr>\n",
       "    <tr>\n",
       "      <th>4</th>\n",
       "      <td>8.841186e+12</td>\n",
       "      <td>5642494</td>\n",
       "      <td>F</td>\n",
       "      <td>2016-04-29</td>\n",
       "      <td>2016-04-29</td>\n",
       "      <td>56</td>\n",
       "      <td>JARDIM DA PENHA</td>\n",
       "      <td>False</td>\n",
       "      <td>True</td>\n",
       "      <td>True</td>\n",
       "      <td>False</td>\n",
       "      <td>False</td>\n",
       "      <td>False</td>\n",
       "      <td>True</td>\n",
       "      <td>0</td>\n",
       "    </tr>\n",
       "  </tbody>\n",
       "</table>\n",
       "</div>"
      ],
      "text/plain": [
       "      PatientId  AppointmentID Gender ScheduledDay AppointmentDay  Age  \\\n",
       "0  2.987250e+13        5642903      F   2016-04-29     2016-04-29   62   \n",
       "1  5.589978e+14        5642503      M   2016-04-29     2016-04-29   56   \n",
       "2  4.262962e+12        5642549      F   2016-04-29     2016-04-29   62   \n",
       "3  8.679512e+11        5642828      F   2016-04-29     2016-04-29    8   \n",
       "4  8.841186e+12        5642494      F   2016-04-29     2016-04-29   56   \n",
       "\n",
       "       Neighbourhood  Scholarship  Hipertension  Diabetes  Alcoholism  \\\n",
       "0    JARDIM DA PENHA        False          True     False       False   \n",
       "1    JARDIM DA PENHA        False         False     False       False   \n",
       "2      MATA DA PRAIA        False         False     False       False   \n",
       "3  PONTAL DE CAMBURI        False         False     False       False   \n",
       "4    JARDIM DA PENHA        False          True      True       False   \n",
       "\n",
       "   Handcap  SMS_received  Showed_up  Date.diff  \n",
       "0    False         False       True          0  \n",
       "1    False         False       True          0  \n",
       "2    False         False       True          0  \n",
       "3    False         False       True          0  \n",
       "4    False         False       True          0  "
      ]
     },
     "execution_count": 2,
     "metadata": {},
     "output_type": "execute_result"
    }
   ],
   "source": [
    "dataset = pd.read_csv('/kaggle/input/healthcare-appointment-dataset/dataset_modified.csv')\n",
    "dataset.head(5)"
   ]
  },
  {
   "cell_type": "code",
   "execution_count": 3,
   "id": "e899e563",
   "metadata": {
    "execution": {
     "iopub.execute_input": "2024-08-27T05:56:52.924007Z",
     "iopub.status.busy": "2024-08-27T05:56:52.923238Z",
     "iopub.status.idle": "2024-08-27T05:56:55.424095Z",
     "shell.execute_reply": "2024-08-27T05:56:55.422804Z"
    },
    "papermill": {
     "duration": 2.511767,
     "end_time": "2024-08-27T05:56:55.427437",
     "exception": false,
     "start_time": "2024-08-27T05:56:52.915670",
     "status": "completed"
    },
    "tags": []
   },
   "outputs": [
    {
     "data": {
      "image/png": "[encoded data removed]",
      "text/plain": [
       "<Figure size 1800x1500 with 9 Axes>"
      ]
     },
     "metadata": {},
     "output_type": "display_data"
    }
   ],
   "source": [
    "import matplotlib.pyplot as plt\n",
    "import seaborn as sns\n",
    "\n",
    "# Set the aesthetic style of the plots\n",
    "sns.set(style=\"whitegrid\")\n",
    "\n",
    "# List of categorical features\n",
    "categorical_features = ['Gender', 'Scholarship', 'Hipertension', \n",
    "                        'Diabetes', 'Alcoholism', 'Handcap', 'SMS_received', 'Showed_up']\n",
    "\n",
    "# Create a figure to hold subplots\n",
    "fig, axes = plt.subplots(nrows=3, ncols=3, figsize=(18, 15))\n",
    "\n",
    "# Flatten axes array for easy iteration\n",
    "axes = axes.flatten()\n",
    "\n",
    "# Plot each categorical feature\n",
    "for i, feature in enumerate(categorical_features):\n",
    "    sns.countplot(data=dataset, x=feature, ax=axes[i], palette=\"viridis\")\n",
    "    axes[i].set_title(f'Distribution of {feature}')\n",
    "    axes[i].set_xlabel('')\n",
    "    axes[i].set_ylabel('Count')\n",
    "    axes[i].tick_params(axis='x', rotation=90)\n",
    "\n",
    "# Adjust layout\n",
    "plt.tight_layout()\n",
    "plt.show()\n"
   ]
  },
  {
   "cell_type": "markdown",
   "id": "5045553c",
   "metadata": {
    "papermill": {
     "duration": 0.008199,
     "end_time": "2024-08-27T05:56:55.444676",
     "exception": false,
     "start_time": "2024-08-27T05:56:55.436477",
     "status": "completed"
    },
    "tags": []
   },
   "source": [
    "## Data engineering\n",
    "\n",
    "I'll remove unnecessary columns, map some categorical columns to seprate columns. Then, I'll split the data into test and train data.\n",
    "I'll use `StandardScaler` function to scale the data as well."
   ]
  },
  {
   "cell_type": "markdown",
   "id": "444a78ea",
   "metadata": {
    "papermill": {
     "duration": 0.008072,
     "end_time": "2024-08-27T05:56:55.461130",
     "exception": false,
     "start_time": "2024-08-27T05:56:55.453058",
     "status": "completed"
    },
    "tags": []
   },
   "source": [
    "If a person has missed an appointment before, there are chances he/she might miss again. Let's see if that is correlated.\n",
    "I found this idea from a kernel on [Kaggle](https://www.kaggle.com/belagoesr/predicting-no-show-downsampling-approach-with-rf)."
   ]
  },
  {
   "cell_type": "code",
   "execution_count": 4,
   "id": "ce32e209",
   "metadata": {
    "execution": {
     "iopub.execute_input": "2024-08-27T05:56:55.479851Z",
     "iopub.status.busy": "2024-08-27T05:56:55.479100Z",
     "iopub.status.idle": "2024-08-27T05:56:55.618043Z",
     "shell.execute_reply": "2024-08-27T05:56:55.616925Z"
    },
    "papermill": {
     "duration": 0.151004,
     "end_time": "2024-08-27T05:56:55.620456",
     "exception": false,
     "start_time": "2024-08-27T05:56:55.469452",
     "status": "completed"
    },
    "tags": []
   },
   "outputs": [
    {
     "data": {
      "text/plain": [
       "0.6102086525921399"
      ]
     },
     "execution_count": 4,
     "metadata": {},
     "output_type": "execute_result"
    }
   ],
   "source": [
    "missed_appointment = dataset.groupby('PatientId')['Showed_up'].sum()\n",
    "missed_appointment = missed_appointment.to_dict()\n",
    "dataset['missed_appointment_before'] = dataset.PatientId.map(lambda x: 1 if missed_appointment[x]>0 else 0)\n",
    "dataset['missed_appointment_before'].corr(dataset['Showed_up'])"
   ]
  },
  {
   "cell_type": "markdown",
   "id": "3092e823",
   "metadata": {
    "papermill": {
     "duration": 0.008142,
     "end_time": "2024-08-27T05:56:55.636932",
     "exception": false,
     "start_time": "2024-08-27T05:56:55.628790",
     "status": "completed"
    },
    "tags": []
   },
   "source": [
    "Surprisingly the correlation is really high and we should keep this column."
   ]
  },
  {
   "cell_type": "markdown",
   "id": "44754947",
   "metadata": {
    "papermill": {
     "duration": 0.007988,
     "end_time": "2024-08-27T05:56:55.653406",
     "exception": false,
     "start_time": "2024-08-27T05:56:55.645418",
     "status": "completed"
    },
    "tags": []
   },
   "source": [
    "As we don't need all the columns, I'll start ommiting them."
   ]
  },
  {
   "cell_type": "code",
   "execution_count": 5,
   "id": "cc6cb6c8",
   "metadata": {
    "execution": {
     "iopub.execute_input": "2024-08-27T05:56:55.673012Z",
     "iopub.status.busy": "2024-08-27T05:56:55.672606Z",
     "iopub.status.idle": "2024-08-27T05:56:55.684914Z",
     "shell.execute_reply": "2024-08-27T05:56:55.683545Z"
    },
    "papermill": {
     "duration": 0.025456,
     "end_time": "2024-08-27T05:56:55.687067",
     "exception": false,
     "start_time": "2024-08-27T05:56:55.661611",
     "status": "completed"
    },
    "tags": []
   },
   "outputs": [
    {
     "name": "stdout",
     "output_type": "stream",
     "text": [
      "Columns: Index(['Gender', 'Age', 'Neighbourhood', 'Scholarship', 'Hipertension',\n",
      "       'Diabetes', 'Alcoholism', 'Handcap', 'SMS_received', 'Showed_up',\n",
      "       'Date.diff', 'missed_appointment_before'],\n",
      "      dtype='object')\n"
     ]
    }
   ],
   "source": [
    "dataset = dataset.drop(['PatientId', 'AppointmentID', 'ScheduledDay', 'AppointmentDay'], axis = 1)\n",
    "print(\"Columns: {}\".format(dataset.columns))"
   ]
  },
  {
   "cell_type": "markdown",
   "id": "d583c9a3",
   "metadata": {
    "papermill": {
     "duration": 0.010457,
     "end_time": "2024-08-27T05:56:55.706172",
     "exception": false,
     "start_time": "2024-08-27T05:56:55.695715",
     "status": "completed"
    },
    "tags": []
   },
   "source": [
    "Let's great dummy columns to accomodate all neighborhoods."
   ]
  },
  {
   "cell_type": "code",
   "execution_count": 6,
   "id": "9a05f248",
   "metadata": {
    "execution": {
     "iopub.execute_input": "2024-08-27T05:56:55.726789Z",
     "iopub.status.busy": "2024-08-27T05:56:55.726400Z",
     "iopub.status.idle": "2024-08-27T05:56:55.781114Z",
     "shell.execute_reply": "2024-08-27T05:56:55.779962Z"
    },
    "papermill": {
     "duration": 0.068077,
     "end_time": "2024-08-27T05:56:55.783699",
     "exception": false,
     "start_time": "2024-08-27T05:56:55.715622",
     "status": "completed"
    },
    "tags": []
   },
   "outputs": [],
   "source": [
    "dataset = pd.concat([dataset.drop('Neighbourhood', axis = 1), \n",
    "           pd.get_dummies(dataset['Neighbourhood'])], axis=1)"
   ]
  },
  {
   "cell_type": "markdown",
   "id": "d2910651",
   "metadata": {
    "papermill": {
     "duration": 0.007993,
     "end_time": "2024-08-27T05:56:55.800129",
     "exception": false,
     "start_time": "2024-08-27T05:56:55.792136",
     "status": "completed"
    },
    "tags": []
   },
   "source": [
    "Now, let's map the Gender column to random values, here 'M' as 0 and 'F' as 1."
   ]
  },
  {
   "cell_type": "code",
   "execution_count": 7,
   "id": "1e0acc38",
   "metadata": {
    "execution": {
     "iopub.execute_input": "2024-08-27T05:56:55.819003Z",
     "iopub.status.busy": "2024-08-27T05:56:55.818175Z",
     "iopub.status.idle": "2024-08-27T05:56:55.831385Z",
     "shell.execute_reply": "2024-08-27T05:56:55.830438Z"
    },
    "papermill": {
     "duration": 0.025016,
     "end_time": "2024-08-27T05:56:55.833486",
     "exception": false,
     "start_time": "2024-08-27T05:56:55.808470",
     "status": "completed"
    },
    "tags": []
   },
   "outputs": [],
   "source": [
    "gender_map = {'M': 0, 'F': 1}\n",
    "dataset['Gender'] = dataset['Gender'].map(gender_map)"
   ]
  },
  {
   "cell_type": "markdown",
   "id": "ad766af3",
   "metadata": {
    "papermill": {
     "duration": 0.008018,
     "end_time": "2024-08-27T05:56:55.849887",
     "exception": false,
     "start_time": "2024-08-27T05:56:55.841869",
     "status": "completed"
    },
    "tags": []
   },
   "source": [
    "Next, I'll split the dataset into train and test data."
   ]
  },
  {
   "cell_type": "code",
   "execution_count": 8,
   "id": "40164064",
   "metadata": {
    "execution": {
     "iopub.execute_input": "2024-08-27T05:56:55.868949Z",
     "iopub.status.busy": "2024-08-27T05:56:55.867785Z",
     "iopub.status.idle": "2024-08-27T05:56:55.880761Z",
     "shell.execute_reply": "2024-08-27T05:56:55.879666Z"
    },
    "papermill": {
     "duration": 0.02479,
     "end_time": "2024-08-27T05:56:55.882990",
     "exception": false,
     "start_time": "2024-08-27T05:56:55.858200",
     "status": "completed"
    },
    "tags": []
   },
   "outputs": [],
   "source": [
    "y = dataset.loc[:, 'Showed_up']\n",
    "X = dataset.drop(['Showed_up'], axis = 1)"
   ]
  },
  {
   "cell_type": "code",
   "execution_count": 9,
   "id": "8789d4cf",
   "metadata": {
    "execution": {
     "iopub.execute_input": "2024-08-27T05:56:55.902106Z",
     "iopub.status.busy": "2024-08-27T05:56:55.901703Z",
     "iopub.status.idle": "2024-08-27T05:56:55.937197Z",
     "shell.execute_reply": "2024-08-27T05:56:55.936046Z"
    },
    "papermill": {
     "duration": 0.047867,
     "end_time": "2024-08-27T05:56:55.939819",
     "exception": false,
     "start_time": "2024-08-27T05:56:55.891952",
     "status": "completed"
    },
    "tags": []
   },
   "outputs": [],
   "source": [
    "X_train, X_test, y_train, y_test = train_test_split(X, y, test_size = 0.33, random_state = 42)"
   ]
  },
  {
   "cell_type": "code",
   "execution_count": 10,
   "id": "f3606456",
   "metadata": {
    "execution": {
     "iopub.execute_input": "2024-08-27T05:56:55.959176Z",
     "iopub.status.busy": "2024-08-27T05:56:55.958197Z",
     "iopub.status.idle": "2024-08-27T05:56:55.964092Z",
     "shell.execute_reply": "2024-08-27T05:56:55.963083Z"
    },
    "papermill": {
     "duration": 0.017856,
     "end_time": "2024-08-27T05:56:55.966265",
     "exception": false,
     "start_time": "2024-08-27T05:56:55.948409",
     "status": "completed"
    },
    "tags": []
   },
   "outputs": [
    {
     "name": "stdout",
     "output_type": "stream",
     "text": [
      "Final shape: (71681, 91)\n"
     ]
    }
   ],
   "source": [
    "print(\"Final shape: {}\".format(X_train.shape))"
   ]
  },
  {
   "cell_type": "markdown",
   "id": "6eb2a174",
   "metadata": {
    "papermill": {
     "duration": 0.008039,
     "end_time": "2024-08-27T05:56:55.982747",
     "exception": false,
     "start_time": "2024-08-27T05:56:55.974708",
     "status": "completed"
    },
    "tags": []
   },
   "source": [
    "Let's now scale the data to make it ready for the Neural Network."
   ]
  },
  {
   "cell_type": "code",
   "execution_count": 11,
   "id": "ef35ff8e",
   "metadata": {
    "execution": {
     "iopub.execute_input": "2024-08-27T05:56:56.001830Z",
     "iopub.status.busy": "2024-08-27T05:56:56.001057Z",
     "iopub.status.idle": "2024-08-27T05:56:56.485492Z",
     "shell.execute_reply": "2024-08-27T05:56:56.484369Z"
    },
    "papermill": {
     "duration": 0.49715,
     "end_time": "2024-08-27T05:56:56.488221",
     "exception": false,
     "start_time": "2024-08-27T05:56:55.991071",
     "status": "completed"
    },
    "tags": []
   },
   "outputs": [],
   "source": [
    "standardScaler = StandardScaler()\n",
    "X_train = standardScaler.fit_transform(X_train)\n",
    "X_test = standardScaler.transform(X_test)"
   ]
  },
  {
   "cell_type": "markdown",
   "id": "d8fdbda7",
   "metadata": {
    "papermill": {
     "duration": 0.008112,
     "end_time": "2024-08-27T05:56:56.504872",
     "exception": false,
     "start_time": "2024-08-27T05:56:56.496760",
     "status": "completed"
    },
    "tags": []
   },
   "source": [
    "## Model generation\n",
    "\n",
    "I'll develop an Artificial Neural Network to map the data to find patterns and eventually learn from it."
   ]
  },
  {
   "cell_type": "code",
   "execution_count": 12,
   "id": "af03d50f",
   "metadata": {
    "execution": {
     "iopub.execute_input": "2024-08-27T05:56:56.523665Z",
     "iopub.status.busy": "2024-08-27T05:56:56.522936Z",
     "iopub.status.idle": "2024-08-27T05:56:56.698240Z",
     "shell.execute_reply": "2024-08-27T05:56:56.697231Z"
    },
    "papermill": {
     "duration": 0.187245,
     "end_time": "2024-08-27T05:56:56.700443",
     "exception": false,
     "start_time": "2024-08-27T05:56:56.513198",
     "status": "completed"
    },
    "tags": []
   },
   "outputs": [
    {
     "name": "stderr",
     "output_type": "stream",
     "text": [
      "/opt/conda/lib/python3.10/site-packages/keras/src/layers/core/dense.py:87: UserWarning: Do not pass an `input_shape`/`input_dim` argument to a layer. When using Sequential models, prefer using an `Input(shape)` object as the first layer in the model instead.\n",
      "  super().__init__(activity_regularizer=activity_regularizer, **kwargs)\n"
     ]
    },
    {
     "data": {
      "text/html": [
       "<pre style=\"white-space:pre;overflow-x:auto;line-height:normal;font-family:Menlo,'DejaVu Sans Mono',consolas,'Courier New',monospace\"><span style=\"font-weight: bold\">Model: \"sequential\"</span>\n",
       "</pre>\n"
      ],
      "text/plain": [
       "\u001b[1mModel: \"sequential\"\u001b[0m\n"
      ]
     },
     "metadata": {},
     "output_type": "display_data"
    },
    {
     "data": {
      "text/html": [
       "<pre style=\"white-space:pre;overflow-x:auto;line-height:normal;font-family:Menlo,'DejaVu Sans Mono',consolas,'Courier New',monospace\">┏━━━━━━━━━━━━━━━━━━━━━━━━━━━━━━━━━┳━━━━━━━━━━━━━━━━━━━━━━━━┳━━━━━━━━━━━━━━━┓\n",
       "┃<span style=\"font-weight: bold\"> Layer (type)                    </span>┃<span style=\"font-weight: bold\"> Output Shape           </span>┃<span style=\"font-weight: bold\">       Param # </span>┃\n",
       "┡━━━━━━━━━━━━━━━━━━━━━━━━━━━━━━━━━╇━━━━━━━━━━━━━━━━━━━━━━━━╇━━━━━━━━━━━━━━━┩\n",
       "│ dense (<span style=\"color: #0087ff; text-decoration-color: #0087ff\">Dense</span>)                   │ (<span style=\"color: #00d7ff; text-decoration-color: #00d7ff\">None</span>, <span style=\"color: #00af00; text-decoration-color: #00af00\">512</span>)            │        <span style=\"color: #00af00; text-decoration-color: #00af00\">47,104</span> │\n",
       "├─────────────────────────────────┼────────────────────────┼───────────────┤\n",
       "│ dropout (<span style=\"color: #0087ff; text-decoration-color: #0087ff\">Dropout</span>)               │ (<span style=\"color: #00d7ff; text-decoration-color: #00d7ff\">None</span>, <span style=\"color: #00af00; text-decoration-color: #00af00\">512</span>)            │             <span style=\"color: #00af00; text-decoration-color: #00af00\">0</span> │\n",
       "├─────────────────────────────────┼────────────────────────┼───────────────┤\n",
       "│ dense_1 (<span style=\"color: #0087ff; text-decoration-color: #0087ff\">Dense</span>)                 │ (<span style=\"color: #00d7ff; text-decoration-color: #00d7ff\">None</span>, <span style=\"color: #00af00; text-decoration-color: #00af00\">1024</span>)           │       <span style=\"color: #00af00; text-decoration-color: #00af00\">525,312</span> │\n",
       "├─────────────────────────────────┼────────────────────────┼───────────────┤\n",
       "│ dropout_1 (<span style=\"color: #0087ff; text-decoration-color: #0087ff\">Dropout</span>)             │ (<span style=\"color: #00d7ff; text-decoration-color: #00d7ff\">None</span>, <span style=\"color: #00af00; text-decoration-color: #00af00\">1024</span>)           │             <span style=\"color: #00af00; text-decoration-color: #00af00\">0</span> │\n",
       "├─────────────────────────────────┼────────────────────────┼───────────────┤\n",
       "│ dense_2 (<span style=\"color: #0087ff; text-decoration-color: #0087ff\">Dense</span>)                 │ (<span style=\"color: #00d7ff; text-decoration-color: #00d7ff\">None</span>, <span style=\"color: #00af00; text-decoration-color: #00af00\">2048</span>)           │     <span style=\"color: #00af00; text-decoration-color: #00af00\">2,099,200</span> │\n",
       "├─────────────────────────────────┼────────────────────────┼───────────────┤\n",
       "│ dropout_2 (<span style=\"color: #0087ff; text-decoration-color: #0087ff\">Dropout</span>)             │ (<span style=\"color: #00d7ff; text-decoration-color: #00d7ff\">None</span>, <span style=\"color: #00af00; text-decoration-color: #00af00\">2048</span>)           │             <span style=\"color: #00af00; text-decoration-color: #00af00\">0</span> │\n",
       "├─────────────────────────────────┼────────────────────────┼───────────────┤\n",
       "│ dense_3 (<span style=\"color: #0087ff; text-decoration-color: #0087ff\">Dense</span>)                 │ (<span style=\"color: #00d7ff; text-decoration-color: #00d7ff\">None</span>, <span style=\"color: #00af00; text-decoration-color: #00af00\">1</span>)              │         <span style=\"color: #00af00; text-decoration-color: #00af00\">2,049</span> │\n",
       "└─────────────────────────────────┴────────────────────────┴───────────────┘\n",
       "</pre>\n"
      ],
      "text/plain": [
       "┏━━━━━━━━━━━━━━━━━━━━━━━━━━━━━━━━━┳━━━━━━━━━━━━━━━━━━━━━━━━┳━━━━━━━━━━━━━━━┓\n",
       "┃\u001b[1m \u001b[0m\u001b[1mLayer (type)                   \u001b[0m\u001b[1m \u001b[0m┃\u001b[1m \u001b[0m\u001b[1mOutput Shape          \u001b[0m\u001b[1m \u001b[0m┃\u001b[1m \u001b[0m\u001b[1m      Param #\u001b[0m\u001b[1m \u001b[0m┃\n",
       "┡━━━━━━━━━━━━━━━━━━━━━━━━━━━━━━━━━╇━━━━━━━━━━━━━━━━━━━━━━━━╇━━━━━━━━━━━━━━━┩\n",
       "│ dense (\u001b[38;5;33mDense\u001b[0m)                   │ (\u001b[38;5;45mNone\u001b[0m, \u001b[38;5;34m512\u001b[0m)            │        \u001b[38;5;34m47,104\u001b[0m │\n",
       "├─────────────────────────────────┼────────────────────────┼───────────────┤\n",
       "│ dropout (\u001b[38;5;33mDropout\u001b[0m)               │ (\u001b[38;5;45mNone\u001b[0m, \u001b[38;5;34m512\u001b[0m)            │             \u001b[38;5;34m0\u001b[0m │\n",
       "├─────────────────────────────────┼────────────────────────┼───────────────┤\n",
       "│ dense_1 (\u001b[38;5;33mDense\u001b[0m)                 │ (\u001b[38;5;45mNone\u001b[0m, \u001b[38;5;34m1024\u001b[0m)           │       \u001b[38;5;34m525,312\u001b[0m │\n",
       "├─────────────────────────────────┼────────────────────────┼───────────────┤\n",
       "│ dropout_1 (\u001b[38;5;33mDropout\u001b[0m)             │ (\u001b[38;5;45mNone\u001b[0m, \u001b[38;5;34m1024\u001b[0m)           │             \u001b[38;5;34m0\u001b[0m │\n",
       "├─────────────────────────────────┼────────────────────────┼───────────────┤\n",
       "│ dense_2 (\u001b[38;5;33mDense\u001b[0m)                 │ (\u001b[38;5;45mNone\u001b[0m, \u001b[38;5;34m2048\u001b[0m)           │     \u001b[38;5;34m2,099,200\u001b[0m │\n",
       "├─────────────────────────────────┼────────────────────────┼───────────────┤\n",
       "│ dropout_2 (\u001b[38;5;33mDropout\u001b[0m)             │ (\u001b[38;5;45mNone\u001b[0m, \u001b[38;5;34m2048\u001b[0m)           │             \u001b[38;5;34m0\u001b[0m │\n",
       "├─────────────────────────────────┼────────────────────────┼───────────────┤\n",
       "│ dense_3 (\u001b[38;5;33mDense\u001b[0m)                 │ (\u001b[38;5;45mNone\u001b[0m, \u001b[38;5;34m1\u001b[0m)              │         \u001b[38;5;34m2,049\u001b[0m │\n",
       "└─────────────────────────────────┴────────────────────────┴───────────────┘\n"
      ]
     },
     "metadata": {},
     "output_type": "display_data"
    },
    {
     "data": {
      "text/html": [
       "<pre style=\"white-space:pre;overflow-x:auto;line-height:normal;font-family:Menlo,'DejaVu Sans Mono',consolas,'Courier New',monospace\"><span style=\"font-weight: bold\"> Total params: </span><span style=\"color: #00af00; text-decoration-color: #00af00\">2,673,665</span> (10.20 MB)\n",
       "</pre>\n"
      ],
      "text/plain": [
       "\u001b[1m Total params: \u001b[0m\u001b[38;5;34m2,673,665\u001b[0m (10.20 MB)\n"
      ]
     },
     "metadata": {},
     "output_type": "display_data"
    },
    {
     "data": {
      "text/html": [
       "<pre style=\"white-space:pre;overflow-x:auto;line-height:normal;font-family:Menlo,'DejaVu Sans Mono',consolas,'Courier New',monospace\"><span style=\"font-weight: bold\"> Trainable params: </span><span style=\"color: #00af00; text-decoration-color: #00af00\">2,673,665</span> (10.20 MB)\n",
       "</pre>\n"
      ],
      "text/plain": [
       "\u001b[1m Trainable params: \u001b[0m\u001b[38;5;34m2,673,665\u001b[0m (10.20 MB)\n"
      ]
     },
     "metadata": {},
     "output_type": "display_data"
    },
    {
     "data": {
      "text/html": [
       "<pre style=\"white-space:pre;overflow-x:auto;line-height:normal;font-family:Menlo,'DejaVu Sans Mono',consolas,'Courier New',monospace\"><span style=\"font-weight: bold\"> Non-trainable params: </span><span style=\"color: #00af00; text-decoration-color: #00af00\">0</span> (0.00 B)\n",
       "</pre>\n"
      ],
      "text/plain": [
       "\u001b[1m Non-trainable params: \u001b[0m\u001b[38;5;34m0\u001b[0m (0.00 B)\n"
      ]
     },
     "metadata": {},
     "output_type": "display_data"
    }
   ],
   "source": [
    "classifier = Sequential()\n",
    "classifier.add(Dense(units = 512, activation = 'relu', input_dim = 91))\n",
    "classifier.add(Dropout(rate = 0.6))\n",
    "classifier.add(Dense(units = 1024, activation = 'relu'))\n",
    "classifier.add(Dropout(rate = 0.6))\n",
    "classifier.add(Dense(units = 2048, activation = 'relu'))\n",
    "classifier.add(Dropout(rate = 0.6))\n",
    "classifier.add(Dense(units = 1, activation = 'sigmoid'))\n",
    "classifier.compile(optimizer = 'adam', loss = 'binary_crossentropy', metrics = ['accuracy'])\n",
    "classifier.summary()"
   ]
  },
  {
   "cell_type": "code",
   "execution_count": 13,
   "id": "73daa62b",
   "metadata": {
    "execution": {
     "iopub.execute_input": "2024-08-27T05:56:56.721078Z",
     "iopub.status.busy": "2024-08-27T05:56:56.720660Z",
     "iopub.status.idle": "2024-08-27T06:02:13.899164Z",
     "shell.execute_reply": "2024-08-27T06:02:13.898132Z"
    },
    "papermill": {
     "duration": 317.191661,
     "end_time": "2024-08-27T06:02:13.901664",
     "exception": false,
     "start_time": "2024-08-27T05:56:56.710003",
     "status": "completed"
    },
    "tags": []
   },
   "outputs": [
    {
     "name": "stdout",
     "output_type": "stream",
     "text": [
      "Epoch 1/5\n",
      "\u001b[1m2016/2016\u001b[0m \u001b[32m━━━━━━━━━━━━━━━━━━━━\u001b[0m\u001b[37m\u001b[0m \u001b[1m52s\u001b[0m 25ms/step - accuracy: 0.8634 - loss: 0.4193 - val_accuracy: 0.8825 - val_loss: 0.3391\n",
      "Epoch 2/5\n",
      "\u001b[1m2016/2016\u001b[0m \u001b[32m━━━━━━━━━━━━━━━━━━━━\u001b[0m\u001b[37m\u001b[0m \u001b[1m51s\u001b[0m 25ms/step - accuracy: 0.8808 - loss: 0.3561 - val_accuracy: 0.8825 - val_loss: 0.3436\n",
      "Epoch 3/5\n",
      "\u001b[1m2016/2016\u001b[0m \u001b[32m━━━━━━━━━━━━━━━━━━━━\u001b[0m\u001b[37m\u001b[0m \u001b[1m50s\u001b[0m 25ms/step - accuracy: 0.8837 - loss: 0.3489 - val_accuracy: 0.8827 - val_loss: 0.3355\n",
      "Epoch 4/5\n",
      "\u001b[1m2016/2016\u001b[0m \u001b[32m━━━━━━━━━━━━━━━━━━━━\u001b[0m\u001b[37m\u001b[0m \u001b[1m51s\u001b[0m 25ms/step - accuracy: 0.8851 - loss: 0.3415 - val_accuracy: 0.8827 - val_loss: 0.3403\n",
      "Epoch 5/5\n",
      "\u001b[1m2016/2016\u001b[0m \u001b[32m━━━━━━━━━━━━━━━━━━━━\u001b[0m\u001b[37m\u001b[0m \u001b[1m83s\u001b[0m 26ms/step - accuracy: 0.8820 - loss: 0.3457 - val_accuracy: 0.8827 - val_loss: 0.3374\n"
     ]
    }
   ],
   "source": [
    "history = classifier.fit(X_train, y_train, epochs = 5, validation_split = 0.1)"
   ]
  },
  {
   "cell_type": "markdown",
   "id": "76e532d3",
   "metadata": {
    "papermill": {
     "duration": 0.265546,
     "end_time": "2024-08-27T06:02:14.432616",
     "exception": false,
     "start_time": "2024-08-27T06:02:14.167070",
     "status": "completed"
    },
    "tags": []
   },
   "source": [
    "## Model prediction\n",
    "\n",
    "As the model is now ready and trained, let's test on the test data.\n",
    "For a baseline, I'll also write the difference between the two classes in the test data."
   ]
  },
  {
   "cell_type": "code",
   "execution_count": 14,
   "id": "fbf1dfed",
   "metadata": {
    "execution": {
     "iopub.execute_input": "2024-08-27T06:02:14.955414Z",
     "iopub.status.busy": "2024-08-27T06:02:14.954963Z",
     "iopub.status.idle": "2024-08-27T06:02:20.415950Z",
     "shell.execute_reply": "2024-08-27T06:02:20.414861Z"
    },
    "papermill": {
     "duration": 5.726162,
     "end_time": "2024-08-27T06:02:20.418583",
     "exception": false,
     "start_time": "2024-08-27T06:02:14.692421",
     "status": "completed"
    },
    "tags": []
   },
   "outputs": [
    {
     "name": "stdout",
     "output_type": "stream",
     "text": [
      "\u001b[1m1104/1104\u001b[0m \u001b[32m━━━━━━━━━━━━━━━━━━━━\u001b[0m\u001b[37m\u001b[0m \u001b[1m5s\u001b[0m 4ms/step\n"
     ]
    }
   ],
   "source": [
    "y_pred = classifier.predict(X_test)\n",
    "y_pred = y_pred > 0.5"
   ]
  },
  {
   "cell_type": "code",
   "execution_count": 15,
   "id": "db3fdb6c",
   "metadata": {
    "execution": {
     "iopub.execute_input": "2024-08-27T06:02:21.017929Z",
     "iopub.status.busy": "2024-08-27T06:02:21.016923Z",
     "iopub.status.idle": "2024-08-27T06:02:21.038750Z",
     "shell.execute_reply": "2024-08-27T06:02:21.037564Z"
    },
    "papermill": {
     "duration": 0.295742,
     "end_time": "2024-08-27T06:02:21.041087",
     "exception": false,
     "start_time": "2024-08-27T06:02:20.745345",
     "status": "completed"
    },
    "tags": []
   },
   "outputs": [
    {
     "name": "stdout",
     "output_type": "stream",
     "text": [
      "Test data description:\n",
      "Showed_up\n",
      "True     28147\n",
      "False     7159\n",
      "Name: count, dtype: int64\n",
      "--------------------------------------------------\n",
      "Confusion matrix:\n",
      "[[ 3032  4127]\n",
      " [    0 28147]]\n",
      "Accuracy: 88.31%\n"
     ]
    }
   ],
   "source": [
    "print(\"Test data description:\")\n",
    "print(\"{}\".format(y_test.value_counts()))\n",
    "print(\"-\"*50)\n",
    "print(\"Confusion matrix:\")\n",
    "print(confusion_matrix(y_test, y_pred))\n",
    "print(\"Accuracy: {:.2f}%\".format(accuracy_score(y_test, y_pred)*100))"
   ]
  },
  {
   "cell_type": "markdown",
   "id": "e071b10c",
   "metadata": {
    "papermill": {
     "duration": 0.270312,
     "end_time": "2024-08-27T06:02:21.582847",
     "exception": false,
     "start_time": "2024-08-27T06:02:21.312535",
     "status": "completed"
    },
    "tags": []
   },
   "source": [
    "## Conclusion\n",
    "\n",
    "Using `ANN` with data engineering, I was able to achieve an accuracy of over 88% in predicting whether someone would show up or not for their appointment."
   ]
  }
 ],
 "metadata": {
  "kaggle": {
   "accelerator": "none",
   "dataSources": [
    {
     "datasetId": 5599982,
     "sourceId": 9255869,
     "sourceType": "datasetVersion"
    }
   ],
   "dockerImageVersionId": 30761,
   "isGpuEnabled": false,
   "isInternetEnabled": true,
   "language": "python",
   "sourceType": "notebook"
  },
  "kernelspec": {
   "display_name": "Python 3",
   "language": "python",
   "name": "python3"
  },
  "language_info": {
   "codemirror_mode": {
    "name": "ipython",
    "version": 3
   },
   "file_extension": ".py",
   "mimetype": "text/x-python",
   "name": "python",
   "nbconvert_exporter": "python",
   "pygments_lexer": "ipython3",
   "version": "3.10.14"
  },
  "papermill": {
   "default_parameters": {},
   "duration": 348.724824,
   "end_time": "2024-08-27T06:02:24.282635",
   "environment_variables": {},
   "exception": null,
   "input_path": "__notebook__.ipynb",
   "output_path": "__notebook__.ipynb",
   "parameters": {},
   "start_time": "2024-08-27T05:56:35.557811",
   "version": "2.6.0"
  }
 },
 "nbformat": 4,
 "nbformat_minor": 5
}
